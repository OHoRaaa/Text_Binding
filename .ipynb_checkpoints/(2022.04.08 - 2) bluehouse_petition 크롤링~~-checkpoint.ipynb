{
 "cells": [
  {
   "cell_type": "code",
   "execution_count": 1,
   "id": "d419d589",
   "metadata": {},
   "outputs": [],
   "source": [
    "import requests\n",
    "from bs4 import BeautifulSoup"
   ]
  },
  {
   "cell_type": "code",
   "execution_count": null,
   "id": "9ac8d3ce",
   "metadata": {},
   "outputs": [],
   "source": []
  },
  {
   "cell_type": "code",
   "execution_count": null,
   "id": "d0d18f7e",
   "metadata": {},
   "outputs": [],
   "source": []
  },
  {
   "cell_type": "code",
   "execution_count": null,
   "id": "583beafa",
   "metadata": {},
   "outputs": [],
   "source": []
  },
  {
   "cell_type": "code",
   "execution_count": null,
   "id": "d453b125",
   "metadata": {},
   "outputs": [],
   "source": []
  },
  {
   "cell_type": "code",
   "execution_count": 34,
   "id": "6a07becf",
   "metadata": {},
   "outputs": [],
   "source": [
    "url = 'https://www1.president.go.kr/petitions/best?page=23'"
   ]
  },
  {
   "cell_type": "code",
   "execution_count": 35,
   "id": "81bb9a72",
   "metadata": {},
   "outputs": [],
   "source": [
    "path = '#cont_view > div.cs_area > div > div > div.board.text > div.b_list.category > div.bl_body > ul > li'"
   ]
  },
  {
   "cell_type": "code",
   "execution_count": 36,
   "id": "aff0f167",
   "metadata": {},
   "outputs": [
    {
     "data": {
      "text/plain": [
       "15"
      ]
     },
     "execution_count": 36,
     "metadata": {},
     "output_type": "execute_result"
    }
   ],
   "source": [
    "res = requests.get(url)\n",
    "soup= BeautifulSoup(res.text, 'html.parser')\n",
    "lis = soup.select(path)\n",
    "len(lis)"
   ]
  },
  {
   "cell_type": "code",
   "execution_count": 37,
   "id": "cd9ed290",
   "metadata": {},
   "outputs": [
    {
     "data": {
      "text/plain": [
       "'보건복지'"
      ]
     },
     "execution_count": 37,
     "metadata": {},
     "output_type": "execute_result"
    }
   ],
   "source": [
    "lis[0].select('.bl_category')[0].text.split()[1]"
   ]
  },
  {
   "cell_type": "code",
   "execution_count": 41,
   "id": "eddda7a2",
   "metadata": {},
   "outputs": [],
   "source": [
    "main_url = 'https://www1.president.go.kr'"
   ]
  },
  {
   "cell_type": "code",
   "execution_count": 42,
   "id": "93ae599d",
   "metadata": {},
   "outputs": [
    {
     "data": {
      "text/plain": [
       "'https://www1.president.go.kr/petitions/604770?navigation=best'"
      ]
     },
     "execution_count": 42,
     "metadata": {},
     "output_type": "execute_result"
    }
   ],
   "source": [
    "full_url = main_url + lis[0].select('a.cb')[0]['href']\n",
    "full_url"
   ]
  },
  {
   "cell_type": "code",
   "execution_count": 43,
   "id": "22621827",
   "metadata": {},
   "outputs": [],
   "source": [
    "res1 = requests.get(full_url)\n",
    "soup1 = BeautifulSoup(res1.text, 'html.parser')"
   ]
  },
  {
   "cell_type": "code",
   "execution_count": null,
   "id": "b7aef63f",
   "metadata": {},
   "outputs": [],
   "source": [
    "soup1.select()"
   ]
  }
 ],
 "metadata": {
  "kernelspec": {
   "display_name": "Python 3 (ipykernel)",
   "language": "python",
   "name": "python3"
  },
  "language_info": {
   "codemirror_mode": {
    "name": "ipython",
    "version": 3
   },
   "file_extension": ".py",
   "mimetype": "text/x-python",
   "name": "python",
   "nbconvert_exporter": "python",
   "pygments_lexer": "ipython3",
   "version": "3.9.7"
  }
 },
 "nbformat": 4,
 "nbformat_minor": 5
}
