{
 "cells": [
  {
   "cell_type": "code",
   "execution_count": 2,
   "id": "8cc85ae1",
   "metadata": {},
   "outputs": [],
   "source": [
    "# 한글 처리 => 형태소 단위 처리 => 형태소 분석기 => Konipy"
   ]
  },
  {
   "cell_type": "code",
   "execution_count": 2,
   "id": "26c8b2a6",
   "metadata": {
    "scrolled": true
   },
   "outputs": [
    {
     "name": "stdout",
     "output_type": "stream",
     "text": [
      "Collecting Jpype1-py3\n",
      "  Downloading JPype1-py3-0.5.5.4.tar.gz (88 kB)\n",
      "Building wheels for collected packages: Jpype1-py3\n",
      "  Building wheel for Jpype1-py3 (setup.py): started\n",
      "  Building wheel for Jpype1-py3 (setup.py): finished with status 'error'\n",
      "  Running setup.py clean for Jpype1-py3\n",
      "Failed to build Jpype1-py3\n",
      "Installing collected packages: Jpype1-py3\n",
      "    Running setup.py install for Jpype1-py3: started\n",
      "    Running setup.py install for Jpype1-py3: finished with status 'error'\n"
     ]
    },
    {
     "name": "stderr",
     "output_type": "stream",
     "text": [
      "  ERROR: Command errored out with exit status 1:\n",
      "   command: 'C:\\Users\\bitcamp\\anaconda3\\python.exe' -u -c 'import io, os, sys, setuptools, tokenize; sys.argv[0] = '\"'\"'C:\\\\Users\\\\bitcamp\\\\AppData\\\\Local\\\\Temp\\\\pip-install-fl8ngzxs\\\\jpype1-py3_87c1ee46aa424cc8809168b07246c85c\\\\setup.py'\"'\"'; __file__='\"'\"'C:\\\\Users\\\\bitcamp\\\\AppData\\\\Local\\\\Temp\\\\pip-install-fl8ngzxs\\\\jpype1-py3_87c1ee46aa424cc8809168b07246c85c\\\\setup.py'\"'\"';f = getattr(tokenize, '\"'\"'open'\"'\"', open)(__file__) if os.path.exists(__file__) else io.StringIO('\"'\"'from setuptools import setup; setup()'\"'\"');code = f.read().replace('\"'\"'\\r\\n'\"'\"', '\"'\"'\\n'\"'\"');f.close();exec(compile(code, __file__, '\"'\"'exec'\"'\"'))' bdist_wheel -d 'C:\\Users\\bitcamp\\AppData\\Local\\Temp\\pip-wheel-gah65nf2'\n",
      "       cwd: C:\\Users\\bitcamp\\AppData\\Local\\Temp\\pip-install-fl8ngzxs\\jpype1-py3_87c1ee46aa424cc8809168b07246c85c\\\n",
      "  Complete output (54 lines):\n",
      "  \n",
      "  ********* DEPRECATION WARNING *********\n",
      "  Warning: This version of JPype is now deprecated, see issue #29 for more details\n",
      "  Warning:     https://github.com/tcalmant/jpype-py3/issues/29\n",
      "  Warning:\n",
      "  Warning: Please use this version instead:\n",
      "  Warning:     https://github.com/jpype-project/jpype\n",
      "  Warning:\n",
      "  Warning: It can be installed using:\n",
      "  Warning:     pip install JPype1\n",
      "  ********* DEPRECATION WARNING *********\n",
      "  \n",
      "  running bdist_wheel\n",
      "  running build\n",
      "  running build_py\n",
      "  creating build\n",
      "  creating build\\lib.win-amd64-3.9\n",
      "  creating build\\lib.win-amd64-3.9\\jpype\n",
      "  copying jpype\\JClassUtil.py -> build\\lib.win-amd64-3.9\\jpype\n",
      "  copying jpype\\nio.py -> build\\lib.win-amd64-3.9\\jpype\n",
      "  copying jpype\\reflect.py -> build\\lib.win-amd64-3.9\\jpype\n",
      "  copying jpype\\_core.py -> build\\lib.win-amd64-3.9\\jpype\n",
      "  copying jpype\\_cygwin.py -> build\\lib.win-amd64-3.9\\jpype\n",
      "  copying jpype\\_darwin.py -> build\\lib.win-amd64-3.9\\jpype\n",
      "  copying jpype\\_gui.py -> build\\lib.win-amd64-3.9\\jpype\n",
      "  copying jpype\\_jarray.py -> build\\lib.win-amd64-3.9\\jpype\n",
      "  copying jpype\\_jclass.py -> build\\lib.win-amd64-3.9\\jpype\n",
      "  copying jpype\\_jcollection.py -> build\\lib.win-amd64-3.9\\jpype\n",
      "  copying jpype\\_jexception.py -> build\\lib.win-amd64-3.9\\jpype\n",
      "  copying jpype\\_jobject.py -> build\\lib.win-amd64-3.9\\jpype\n",
      "  copying jpype\\_jpackage.py -> build\\lib.win-amd64-3.9\\jpype\n",
      "  copying jpype\\_jproxy.py -> build\\lib.win-amd64-3.9\\jpype\n",
      "  copying jpype\\_jvmfinder.py -> build\\lib.win-amd64-3.9\\jpype\n",
      "  copying jpype\\_jwrapper.py -> build\\lib.win-amd64-3.9\\jpype\n",
      "  copying jpype\\_linux.py -> build\\lib.win-amd64-3.9\\jpype\n",
      "  copying jpype\\_properties.py -> build\\lib.win-amd64-3.9\\jpype\n",
      "  copying jpype\\_pykeywords.py -> build\\lib.win-amd64-3.9\\jpype\n",
      "  copying jpype\\_refdaemon.py -> build\\lib.win-amd64-3.9\\jpype\n",
      "  copying jpype\\_windows.py -> build\\lib.win-amd64-3.9\\jpype\n",
      "  copying jpype\\__init__.py -> build\\lib.win-amd64-3.9\\jpype\n",
      "  creating build\\lib.win-amd64-3.9\\jpype\\awt\n",
      "  copying jpype\\awt\\__init__.py -> build\\lib.win-amd64-3.9\\jpype\\awt\n",
      "  creating build\\lib.win-amd64-3.9\\jpype\\awt\\event\n",
      "  copying jpype\\awt\\event\\WindowAdapter.py -> build\\lib.win-amd64-3.9\\jpype\\awt\\event\n",
      "  copying jpype\\awt\\event\\__init__.py -> build\\lib.win-amd64-3.9\\jpype\\awt\\event\n",
      "  creating build\\lib.win-amd64-3.9\\jpypex\n",
      "  copying jpypex\\__init__.py -> build\\lib.win-amd64-3.9\\jpypex\n",
      "  creating build\\lib.win-amd64-3.9\\jpypex\\swing\n",
      "  copying jpypex\\swing\\AbstractAction.py -> build\\lib.win-amd64-3.9\\jpypex\\swing\n",
      "  copying jpypex\\swing\\pyutils.py -> build\\lib.win-amd64-3.9\\jpypex\\swing\n",
      "  copying jpypex\\swing\\__init__.py -> build\\lib.win-amd64-3.9\\jpypex\\swing\n",
      "  running build_ext\n",
      "  building '_jpype' extension\n",
      "  error: Microsoft Visual C++ 14.0 or greater is required. Get it with \"Microsoft C++ Build Tools\": https://visualstudio.microsoft.com/visual-cpp-build-tools/\n",
      "  ----------------------------------------\n",
      "  ERROR: Failed building wheel for Jpype1-py3\n",
      "    ERROR: Command errored out with exit status 1:\n",
      "     command: 'C:\\Users\\bitcamp\\anaconda3\\python.exe' -u -c 'import io, os, sys, setuptools, tokenize; sys.argv[0] = '\"'\"'C:\\\\Users\\\\bitcamp\\\\AppData\\\\Local\\\\Temp\\\\pip-install-fl8ngzxs\\\\jpype1-py3_87c1ee46aa424cc8809168b07246c85c\\\\setup.py'\"'\"'; __file__='\"'\"'C:\\\\Users\\\\bitcamp\\\\AppData\\\\Local\\\\Temp\\\\pip-install-fl8ngzxs\\\\jpype1-py3_87c1ee46aa424cc8809168b07246c85c\\\\setup.py'\"'\"';f = getattr(tokenize, '\"'\"'open'\"'\"', open)(__file__) if os.path.exists(__file__) else io.StringIO('\"'\"'from setuptools import setup; setup()'\"'\"');code = f.read().replace('\"'\"'\\r\\n'\"'\"', '\"'\"'\\n'\"'\"');f.close();exec(compile(code, __file__, '\"'\"'exec'\"'\"'))' install --record 'C:\\Users\\bitcamp\\AppData\\Local\\Temp\\pip-record-viqa727l\\install-record.txt' --single-version-externally-managed --compile --install-headers 'C:\\Users\\bitcamp\\anaconda3\\Include\\Jpype1-py3'\n",
      "         cwd: C:\\Users\\bitcamp\\AppData\\Local\\Temp\\pip-install-fl8ngzxs\\jpype1-py3_87c1ee46aa424cc8809168b07246c85c\\\n",
      "    Complete output (54 lines):\n",
      "    \n",
      "    ********* DEPRECATION WARNING *********\n",
      "    Warning: This version of JPype is now deprecated, see issue #29 for more details\n",
      "    Warning:     https://github.com/tcalmant/jpype-py3/issues/29\n",
      "    Warning:\n",
      "    Warning: Please use this version instead:\n",
      "    Warning:     https://github.com/jpype-project/jpype\n",
      "    Warning:\n",
      "    Warning: It can be installed using:\n",
      "    Warning:     pip install JPype1\n",
      "    ********* DEPRECATION WARNING *********\n",
      "    \n",
      "    running install\n",
      "    running build\n",
      "    running build_py\n",
      "    creating build\n",
      "    creating build\\lib.win-amd64-3.9\n",
      "    creating build\\lib.win-amd64-3.9\\jpype\n",
      "    copying jpype\\JClassUtil.py -> build\\lib.win-amd64-3.9\\jpype\n",
      "    copying jpype\\nio.py -> build\\lib.win-amd64-3.9\\jpype\n",
      "    copying jpype\\reflect.py -> build\\lib.win-amd64-3.9\\jpype\n",
      "    copying jpype\\_core.py -> build\\lib.win-amd64-3.9\\jpype\n",
      "    copying jpype\\_cygwin.py -> build\\lib.win-amd64-3.9\\jpype\n",
      "    copying jpype\\_darwin.py -> build\\lib.win-amd64-3.9\\jpype\n",
      "    copying jpype\\_gui.py -> build\\lib.win-amd64-3.9\\jpype\n",
      "    copying jpype\\_jarray.py -> build\\lib.win-amd64-3.9\\jpype\n",
      "    copying jpype\\_jclass.py -> build\\lib.win-amd64-3.9\\jpype\n",
      "    copying jpype\\_jcollection.py -> build\\lib.win-amd64-3.9\\jpype\n",
      "    copying jpype\\_jexception.py -> build\\lib.win-amd64-3.9\\jpype\n",
      "    copying jpype\\_jobject.py -> build\\lib.win-amd64-3.9\\jpype\n",
      "    copying jpype\\_jpackage.py -> build\\lib.win-amd64-3.9\\jpype\n",
      "    copying jpype\\_jproxy.py -> build\\lib.win-amd64-3.9\\jpype\n",
      "    copying jpype\\_jvmfinder.py -> build\\lib.win-amd64-3.9\\jpype\n",
      "    copying jpype\\_jwrapper.py -> build\\lib.win-amd64-3.9\\jpype\n",
      "    copying jpype\\_linux.py -> build\\lib.win-amd64-3.9\\jpype\n",
      "    copying jpype\\_properties.py -> build\\lib.win-amd64-3.9\\jpype\n",
      "    copying jpype\\_pykeywords.py -> build\\lib.win-amd64-3.9\\jpype\n",
      "    copying jpype\\_refdaemon.py -> build\\lib.win-amd64-3.9\\jpype\n",
      "    copying jpype\\_windows.py -> build\\lib.win-amd64-3.9\\jpype\n",
      "    copying jpype\\__init__.py -> build\\lib.win-amd64-3.9\\jpype\n",
      "    creating build\\lib.win-amd64-3.9\\jpype\\awt\n",
      "    copying jpype\\awt\\__init__.py -> build\\lib.win-amd64-3.9\\jpype\\awt\n",
      "    creating build\\lib.win-amd64-3.9\\jpype\\awt\\event\n",
      "    copying jpype\\awt\\event\\WindowAdapter.py -> build\\lib.win-amd64-3.9\\jpype\\awt\\event\n",
      "    copying jpype\\awt\\event\\__init__.py -> build\\lib.win-amd64-3.9\\jpype\\awt\\event\n",
      "    creating build\\lib.win-amd64-3.9\\jpypex\n",
      "    copying jpypex\\__init__.py -> build\\lib.win-amd64-3.9\\jpypex\n",
      "    creating build\\lib.win-amd64-3.9\\jpypex\\swing\n",
      "    copying jpypex\\swing\\AbstractAction.py -> build\\lib.win-amd64-3.9\\jpypex\\swing\n",
      "    copying jpypex\\swing\\pyutils.py -> build\\lib.win-amd64-3.9\\jpypex\\swing\n",
      "    copying jpypex\\swing\\__init__.py -> build\\lib.win-amd64-3.9\\jpypex\\swing\n",
      "    running build_ext\n",
      "    building '_jpype' extension\n",
      "    error: Microsoft Visual C++ 14.0 or greater is required. Get it with \"Microsoft C++ Build Tools\": https://visualstudio.microsoft.com/visual-cpp-build-tools/\n",
      "    ----------------------------------------\n",
      "ERROR: Command errored out with exit status 1: 'C:\\Users\\bitcamp\\anaconda3\\python.exe' -u -c 'import io, os, sys, setuptools, tokenize; sys.argv[0] = '\"'\"'C:\\\\Users\\\\bitcamp\\\\AppData\\\\Local\\\\Temp\\\\pip-install-fl8ngzxs\\\\jpype1-py3_87c1ee46aa424cc8809168b07246c85c\\\\setup.py'\"'\"'; __file__='\"'\"'C:\\\\Users\\\\bitcamp\\\\AppData\\\\Local\\\\Temp\\\\pip-install-fl8ngzxs\\\\jpype1-py3_87c1ee46aa424cc8809168b07246c85c\\\\setup.py'\"'\"';f = getattr(tokenize, '\"'\"'open'\"'\"', open)(__file__) if os.path.exists(__file__) else io.StringIO('\"'\"'from setuptools import setup; setup()'\"'\"');code = f.read().replace('\"'\"'\\r\\n'\"'\"', '\"'\"'\\n'\"'\"');f.close();exec(compile(code, __file__, '\"'\"'exec'\"'\"'))' install --record 'C:\\Users\\bitcamp\\AppData\\Local\\Temp\\pip-record-viqa727l\\install-record.txt' --single-version-externally-managed --compile --install-headers 'C:\\Users\\bitcamp\\anaconda3\\Include\\Jpype1-py3' Check the logs for full command output.\n"
     ]
    }
   ],
   "source": [
    "!pip3 install Jpype1-py3"
   ]
  },
  {
   "cell_type": "code",
   "execution_count": 1,
   "id": "c2b9b4e5",
   "metadata": {},
   "outputs": [
    {
     "ename": "ImportError",
     "evalue": "DLL load failed while importing _jpype: DLL 초기화 루틴을 실행할 수 없습니다.",
     "output_type": "error",
     "traceback": [
      "\u001b[1;31m---------------------------------------------------------------------------\u001b[0m",
      "\u001b[1;31mImportError\u001b[0m                               Traceback (most recent call last)",
      "\u001b[1;32m~\\AppData\\Local\\Temp/ipykernel_11828/677415331.py\u001b[0m in \u001b[0;36m<module>\u001b[1;34m\u001b[0m\n\u001b[1;32m----> 1\u001b[1;33m \u001b[1;32mimport\u001b[0m \u001b[0mkonlpy\u001b[0m\u001b[1;33m\u001b[0m\u001b[1;33m\u001b[0m\u001b[0m\n\u001b[0m",
      "\u001b[1;32m~\\anaconda3\\lib\\site-packages\\konlpy\\__init__.py\u001b[0m in \u001b[0;36m<module>\u001b[1;34m\u001b[0m\n\u001b[0;32m     10\u001b[0m \u001b[1;33m\u001b[0m\u001b[0m\n\u001b[0;32m     11\u001b[0m \u001b[1;32mfrom\u001b[0m \u001b[0mkonlpy\u001b[0m\u001b[1;33m.\u001b[0m\u001b[0mjvm\u001b[0m \u001b[1;32mimport\u001b[0m \u001b[0minit_jvm\u001b[0m\u001b[1;33m\u001b[0m\u001b[1;33m\u001b[0m\u001b[0m\n\u001b[1;32m---> 12\u001b[1;33m from konlpy import (\n\u001b[0m\u001b[0;32m     13\u001b[0m     \u001b[0mcorpus\u001b[0m\u001b[1;33m,\u001b[0m\u001b[1;33m\u001b[0m\u001b[1;33m\u001b[0m\u001b[0m\n\u001b[0;32m     14\u001b[0m     \u001b[0mdata\u001b[0m\u001b[1;33m,\u001b[0m\u001b[1;33m\u001b[0m\u001b[1;33m\u001b[0m\u001b[0m\n",
      "\u001b[1;32m~\\anaconda3\\lib\\site-packages\\konlpy\\tag\\__init__.py\u001b[0m in \u001b[0;36m<module>\u001b[1;34m\u001b[0m\n\u001b[0;32m      4\u001b[0m \u001b[1;32mimport\u001b[0m \u001b[0mwarnings\u001b[0m\u001b[1;33m\u001b[0m\u001b[1;33m\u001b[0m\u001b[0m\n\u001b[0;32m      5\u001b[0m \u001b[1;33m\u001b[0m\u001b[0m\n\u001b[1;32m----> 6\u001b[1;33m \u001b[1;32mfrom\u001b[0m \u001b[0mkonlpy\u001b[0m\u001b[1;33m.\u001b[0m\u001b[0mtag\u001b[0m\u001b[1;33m.\u001b[0m\u001b[0m_hannanum\u001b[0m \u001b[1;32mimport\u001b[0m \u001b[0mHannanum\u001b[0m\u001b[1;33m\u001b[0m\u001b[1;33m\u001b[0m\u001b[0m\n\u001b[0m\u001b[0;32m      7\u001b[0m \u001b[1;32mfrom\u001b[0m \u001b[0mkonlpy\u001b[0m\u001b[1;33m.\u001b[0m\u001b[0mtag\u001b[0m\u001b[1;33m.\u001b[0m\u001b[0m_kkma\u001b[0m \u001b[1;32mimport\u001b[0m \u001b[0mKkma\u001b[0m\u001b[1;33m\u001b[0m\u001b[1;33m\u001b[0m\u001b[0m\n\u001b[0;32m      8\u001b[0m \u001b[1;32mfrom\u001b[0m \u001b[0mkonlpy\u001b[0m\u001b[1;33m.\u001b[0m\u001b[0mtag\u001b[0m\u001b[1;33m.\u001b[0m\u001b[0m_komoran\u001b[0m \u001b[1;32mimport\u001b[0m \u001b[0mKomoran\u001b[0m\u001b[1;33m\u001b[0m\u001b[1;33m\u001b[0m\u001b[0m\n",
      "\u001b[1;32m~\\anaconda3\\lib\\site-packages\\konlpy\\tag\\_hannanum.py\u001b[0m in \u001b[0;36m<module>\u001b[1;34m\u001b[0m\n\u001b[0;32m      5\u001b[0m \u001b[1;32mimport\u001b[0m \u001b[0mre\u001b[0m\u001b[1;33m\u001b[0m\u001b[1;33m\u001b[0m\u001b[0m\n\u001b[0;32m      6\u001b[0m \u001b[1;33m\u001b[0m\u001b[0m\n\u001b[1;32m----> 7\u001b[1;33m \u001b[1;32mimport\u001b[0m \u001b[0mjpype\u001b[0m\u001b[1;33m\u001b[0m\u001b[1;33m\u001b[0m\u001b[0m\n\u001b[0m\u001b[0;32m      8\u001b[0m \u001b[1;33m\u001b[0m\u001b[0m\n\u001b[0;32m      9\u001b[0m \u001b[1;32mfrom\u001b[0m \u001b[0mkonlpy\u001b[0m \u001b[1;32mimport\u001b[0m \u001b[0mjvm\u001b[0m\u001b[1;33m,\u001b[0m \u001b[0mutils\u001b[0m\u001b[1;33m\u001b[0m\u001b[1;33m\u001b[0m\u001b[0m\n",
      "\u001b[1;32m~\\anaconda3\\lib\\site-packages\\jpype\\__init__.py\u001b[0m in \u001b[0;36m<module>\u001b[1;34m\u001b[0m\n\u001b[0;32m     16\u001b[0m \u001b[1;31m#\u001b[0m\u001b[1;33m\u001b[0m\u001b[1;33m\u001b[0m\u001b[0m\n\u001b[0;32m     17\u001b[0m \u001b[1;31m# *****************************************************************************\u001b[0m\u001b[1;33m\u001b[0m\u001b[1;33m\u001b[0m\u001b[0m\n\u001b[1;32m---> 18\u001b[1;33m \u001b[1;32mimport\u001b[0m \u001b[0m_jpype\u001b[0m\u001b[1;33m\u001b[0m\u001b[1;33m\u001b[0m\u001b[0m\n\u001b[0m\u001b[0;32m     19\u001b[0m \u001b[1;32mfrom\u001b[0m \u001b[1;33m.\u001b[0m\u001b[0m_jinit\u001b[0m \u001b[1;32mimport\u001b[0m \u001b[1;33m*\u001b[0m\u001b[1;33m\u001b[0m\u001b[1;33m\u001b[0m\u001b[0m\n\u001b[0;32m     20\u001b[0m \u001b[1;32mfrom\u001b[0m \u001b[1;33m.\u001b[0m\u001b[0m_jpackage\u001b[0m \u001b[1;32mimport\u001b[0m \u001b[1;33m*\u001b[0m\u001b[1;33m\u001b[0m\u001b[1;33m\u001b[0m\u001b[0m\n",
      "\u001b[1;31mImportError\u001b[0m: DLL load failed while importing _jpype: DLL 초기화 루틴을 실행할 수 없습니다."
     ]
    }
   ],
   "source": [
    "import konlpy"
   ]
  },
  {
   "cell_type": "code",
   "execution_count": null,
   "id": "88c58fa6",
   "metadata": {},
   "outputs": [],
   "source": [
    "from konlpy.tag import Hannanum, Kkma, Komoran, Twitter  # Mecab, Kahiii\n"
   ]
  },
  {
   "cell_type": "code",
   "execution_count": 23,
   "id": "39eba53c",
   "metadata": {},
   "outputs": [
    {
     "ename": "NameError",
     "evalue": "name 'jpype' is not defined",
     "output_type": "error",
     "traceback": [
      "\u001b[1;31m---------------------------------------------------------------------------\u001b[0m",
      "\u001b[1;31mNameError\u001b[0m                                 Traceback (most recent call last)",
      "\u001b[1;32m~\\AppData\\Local\\Temp/ipykernel_7392/3001936225.py\u001b[0m in \u001b[0;36m<module>\u001b[1;34m\u001b[0m\n\u001b[1;32m----> 1\u001b[1;33m \u001b[0mkor\u001b[0m \u001b[1;33m=\u001b[0m \u001b[0mKomoran\u001b[0m\u001b[1;33m(\u001b[0m\u001b[1;33m)\u001b[0m\u001b[1;33m\u001b[0m\u001b[1;33m\u001b[0m\u001b[0m\n\u001b[0m",
      "\u001b[1;32m~\\anaconda3\\lib\\site-packages\\konlpy\\tag\\_komoran.py\u001b[0m in \u001b[0;36m__init__\u001b[1;34m(self, jvmpath, userdic, modelpath, max_heap_size)\u001b[0m\n\u001b[0;32m     54\u001b[0m     \u001b[1;32mdef\u001b[0m \u001b[0m__init__\u001b[0m\u001b[1;33m(\u001b[0m\u001b[0mself\u001b[0m\u001b[1;33m,\u001b[0m \u001b[0mjvmpath\u001b[0m\u001b[1;33m=\u001b[0m\u001b[1;32mNone\u001b[0m\u001b[1;33m,\u001b[0m \u001b[0muserdic\u001b[0m\u001b[1;33m=\u001b[0m\u001b[1;32mNone\u001b[0m\u001b[1;33m,\u001b[0m \u001b[0mmodelpath\u001b[0m\u001b[1;33m=\u001b[0m\u001b[1;32mNone\u001b[0m\u001b[1;33m,\u001b[0m \u001b[0mmax_heap_size\u001b[0m\u001b[1;33m=\u001b[0m\u001b[1;36m1024\u001b[0m\u001b[1;33m)\u001b[0m\u001b[1;33m:\u001b[0m\u001b[1;33m\u001b[0m\u001b[1;33m\u001b[0m\u001b[0m\n\u001b[0;32m     55\u001b[0m         \u001b[1;32mif\u001b[0m \u001b[1;32mnot\u001b[0m \u001b[0mjpype\u001b[0m\u001b[1;33m.\u001b[0m\u001b[0misJVMStarted\u001b[0m\u001b[1;33m(\u001b[0m\u001b[1;33m)\u001b[0m\u001b[1;33m:\u001b[0m\u001b[1;33m\u001b[0m\u001b[1;33m\u001b[0m\u001b[0m\n\u001b[1;32m---> 56\u001b[1;33m             \u001b[0mjvm\u001b[0m\u001b[1;33m.\u001b[0m\u001b[0minit_jvm\u001b[0m\u001b[1;33m(\u001b[0m\u001b[0mjvmpath\u001b[0m\u001b[1;33m,\u001b[0m \u001b[0mmax_heap_size\u001b[0m\u001b[1;33m)\u001b[0m\u001b[1;33m\u001b[0m\u001b[1;33m\u001b[0m\u001b[0m\n\u001b[0m\u001b[0;32m     57\u001b[0m \u001b[1;33m\u001b[0m\u001b[0m\n\u001b[0;32m     58\u001b[0m         \u001b[1;32mif\u001b[0m \u001b[0mmodelpath\u001b[0m\u001b[1;33m:\u001b[0m\u001b[1;33m\u001b[0m\u001b[1;33m\u001b[0m\u001b[0m\n",
      "\u001b[1;32m~\\anaconda3\\lib\\site-packages\\konlpy\\jvm.py\u001b[0m in \u001b[0;36minit_jvm\u001b[1;34m(jvmpath, max_heap_size)\u001b[0m\n\u001b[0;32m     21\u001b[0m     \"\"\"\n\u001b[0;32m     22\u001b[0m \u001b[1;33m\u001b[0m\u001b[0m\n\u001b[1;32m---> 23\u001b[1;33m     \u001b[1;32mif\u001b[0m \u001b[0mjpype\u001b[0m\u001b[1;33m.\u001b[0m\u001b[0misJVMStarted\u001b[0m\u001b[1;33m(\u001b[0m\u001b[1;33m)\u001b[0m\u001b[1;33m:\u001b[0m\u001b[1;33m\u001b[0m\u001b[1;33m\u001b[0m\u001b[0m\n\u001b[0m\u001b[0;32m     24\u001b[0m         \u001b[0mlogging\u001b[0m\u001b[1;33m.\u001b[0m\u001b[0mwarning\u001b[0m\u001b[1;33m(\u001b[0m\u001b[1;34m'JVM is already running. Do not init twice!'\u001b[0m\u001b[1;33m)\u001b[0m\u001b[1;33m\u001b[0m\u001b[1;33m\u001b[0m\u001b[0m\n\u001b[0;32m     25\u001b[0m         \u001b[1;32mreturn\u001b[0m\u001b[1;33m\u001b[0m\u001b[1;33m\u001b[0m\u001b[0m\n",
      "\u001b[1;31mNameError\u001b[0m: name 'jpype' is not defined"
     ]
    }
   ],
   "source": [
    "kor = Komoran()"
   ]
  },
  {
   "cell_type": "code",
   "execution_count": null,
   "id": "a05b07c5",
   "metadata": {},
   "outputs": [],
   "source": []
  }
 ],
 "metadata": {
  "kernelspec": {
   "display_name": "Python 3 (ipykernel)",
   "language": "python",
   "name": "python3"
  },
  "language_info": {
   "codemirror_mode": {
    "name": "ipython",
    "version": 3
   },
   "file_extension": ".py",
   "mimetype": "text/x-python",
   "name": "python",
   "nbconvert_exporter": "python",
   "pygments_lexer": "ipython3",
   "version": "3.9.7"
  }
 },
 "nbformat": 4,
 "nbformat_minor": 5
}
