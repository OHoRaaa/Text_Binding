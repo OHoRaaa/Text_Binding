{
 "cells": [
  {
   "cell_type": "markdown",
   "id": "3081b197",
   "metadata": {},
   "source": [
    "# ※토픽모델링\n",
    "* Topic Modeling\n",
    "* 맥락과 관련된 단어들을 이용하여 주제를 찾아내는 알고리즘"
   ]
  },
  {
   "cell_type": "code",
   "execution_count": 3,
   "id": "3562346b",
   "metadata": {},
   "outputs": [],
   "source": [
    "# !pip install gensim"
   ]
  },
  {
   "cell_type": "code",
   "execution_count": 78,
   "id": "33dca915",
   "metadata": {},
   "outputs": [],
   "source": [
    "from nltk.corpus import stopwords\n",
    "from nltk.stem.porter import PorterStemmer\n",
    "from gensim import corpora, models\n",
    "import gensim\n",
    "from nltk.tokenize import RegexpTokenizer\n",
    "import numpy as np"
   ]
  },
  {
   "cell_type": "markdown",
   "id": "4b2826f5",
   "metadata": {},
   "source": [
    "## ◆RegexpTokenizer\n",
    "* 정규 표현식을 사용해서 단어 토큰화를 수행"
   ]
  },
  {
   "cell_type": "code",
   "execution_count": 106,
   "id": "f8efff03",
   "metadata": {},
   "outputs": [],
   "source": [
    "tokenizer = RegexpTokenizer('[\\w]+')  # \\w+는 문자 또는 숫자가 1개 이상인 경우를 의미합니다."
   ]
  },
  {
   "cell_type": "markdown",
   "id": "46acb4f8",
   "metadata": {},
   "source": [
    "# ◆stopwords\n",
    "* 불용어"
   ]
  },
  {
   "cell_type": "code",
   "execution_count": 80,
   "id": "7a6a37ec",
   "metadata": {},
   "outputs": [],
   "source": [
    "stop_words = stopwords.words('english')"
   ]
  },
  {
   "cell_type": "markdown",
   "id": "5f13e5ac",
   "metadata": {},
   "source": [
    "# ◆Stemming\n",
    "* 어간 추출\n",
    "* Stemming은 정해진 규칙만 보고 단어의 어미를 어림짐작으로 자르기 때문에, Stemming 후에 나오는 단어는 사전에 존재하지 않는 단어일 가능성이 있습니다."
   ]
  },
  {
   "cell_type": "code",
   "execution_count": 81,
   "id": "f723aa4f",
   "metadata": {},
   "outputs": [],
   "source": [
    "p_stemmer = PorterStemmer()  # 어근 복원 : runs, running, ran => run\n",
    "                             #             cars => car  \n",
    "                             #             wrote, written, writing => write\n",
    "                             #             was => wa (x)\n",
    "\n",
    "# 한글은 토크나이저, 스테머를 같이하지만 영어는 따로 쓸 수 있다."
   ]
  },
  {
   "cell_type": "code",
   "execution_count": null,
   "id": "7b306481",
   "metadata": {},
   "outputs": [],
   "source": []
  },
  {
   "cell_type": "code",
   "execution_count": 82,
   "id": "19fb97a6",
   "metadata": {},
   "outputs": [],
   "source": []
  },
  {
   "cell_type": "code",
   "execution_count": 83,
   "id": "04586c02",
   "metadata": {},
   "outputs": [],
   "source": [
    "# topics - keywords를 기준으로 keywords의 빈도(중요도)를 계산해서 문서와 유사도\n",
    "\n",
    "# 1. health\n",
    "# 2. food\n",
    "# 3. bigdata\n",
    "# 4. drive\n",
    "# 5. data"
   ]
  },
  {
   "cell_type": "code",
   "execution_count": null,
   "id": "d7914362",
   "metadata": {},
   "outputs": [],
   "source": []
  },
  {
   "cell_type": "code",
   "execution_count": 109,
   "id": "5086769f",
   "metadata": {},
   "outputs": [
    {
     "name": "stdout",
     "output_type": "stream",
     "text": [
      "(0, 'female')\n",
      "(1, 'human')\n",
      "(2, 'man')\n",
      "(3, 'boy')\n",
      "(4, 'woman')\n"
     ]
    }
   ],
   "source": [
    "# gensim : \n",
    "\n",
    "## text 데이터를 가지고 무엇긴가를 하려면 수치화를 하여 계산을 해야한다.\n",
    "## 자연어 처리를 위한 오픈소스 라이브러리\n",
    "\n",
    "from gensim.corpora import Dictionary\n",
    "text1 = [['man', 'female', 'man', 'human', 'man'],['woman', 'boy', 'human', 'man', 'woman']]\n",
    "\n",
    "dictionary = Dictionary(text1)\n",
    "for i in dictionary.items():\n",
    "    print(i)                              "
   ]
  },
  {
   "cell_type": "code",
   "execution_count": 111,
   "id": "67684f96",
   "metadata": {},
   "outputs": [
    {
     "name": "stdout",
     "output_type": "stream",
     "text": [
      "{'female': 0, 'human': 1, 'man': 2, 'boy': 3, 'woman': 4}\n"
     ]
    }
   ],
   "source": [
    "print(dictionary.token2id)          # 각각의 token에 id 생성"
   ]
  },
  {
   "cell_type": "code",
   "execution_count": 112,
   "id": "cec666da",
   "metadata": {},
   "outputs": [
    {
     "data": {
      "text/plain": [
       "[[(0, 1), (1, 1), (2, 3)], [(1, 1), (2, 1), (3, 1), (4, 2)]]"
      ]
     },
     "execution_count": 112,
     "metadata": {},
     "output_type": "execute_result"
    }
   ],
   "source": [
    "# 단어의 빈도수\n",
    "\n",
    "[dictionary.doc2bow(text) for text in text1]"
   ]
  },
  {
   "cell_type": "code",
   "execution_count": 113,
   "id": "a3778c81",
   "metadata": {},
   "outputs": [
    {
     "data": {
      "text/plain": [
       "[(0, 1), (2, 3), (3, 1), (4, 2)]"
      ]
     },
     "execution_count": 113,
     "metadata": {},
     "output_type": "execute_result"
    }
   ],
   "source": [
    "dictionary.doc2bow(['man', 'woman', 'boy', 'female', 'man', 'woman', 'man'])"
   ]
  },
  {
   "cell_type": "code",
   "execution_count": 114,
   "id": "859e0cc8",
   "metadata": {},
   "outputs": [
    {
     "data": {
      "text/plain": [
       "[2, 4, 3, 0, 2, 4, 2]"
      ]
     },
     "execution_count": 114,
     "metadata": {},
     "output_type": "execute_result"
    }
   ],
   "source": [
    "# 단어의 id\n",
    "\n",
    "dictionary.doc2idx(['man', 'woman', 'boy', 'female', 'man', 'woman', 'man'])"
   ]
  },
  {
   "cell_type": "code",
   "execution_count": null,
   "id": "d2c6be2e",
   "metadata": {},
   "outputs": [],
   "source": []
  },
  {
   "cell_type": "code",
   "execution_count": null,
   "id": "80fb241a",
   "metadata": {},
   "outputs": [],
   "source": []
  },
  {
   "cell_type": "code",
   "execution_count": 115,
   "id": "e9f4e372",
   "metadata": {},
   "outputs": [],
   "source": [
    "doc_a = \"Brocolli is good to eat. My brother likes to eat good brocolli, but not my mother.\"\n",
    "doc_b = \"My mother spends a lot of time driving my brother around to baseball practice.\"\n",
    "doc_c = \"Some health experts suggest that driving may cause increased tension and blood pressure.\"\n",
    "doc_d = \"I often feel pressure to perform well at school, but my mother never seems to drive my brother to do better.\"\n",
    "doc_e = \"Health professionals say that brocolli is good for your health.\"\n",
    "doc_f = \"Big data is a term used to refer to data sets that are too large or complex for traditional data-processing application software to adequately deal with.\"\n",
    "doc_g = \"Data with many cases offer greater statistical power, while data with higher complexity may lead to a higher false discovery rate\"\n",
    "doc_h = \"Big data was originally associated with three key concepts: volume, variety, and velocity.\"\n",
    "doc_i = \"A 2016 definition states that 'Big data represents the information assets characterized by such a high volume, velocity and variety to require specific technology and analytical methods for its transformation into value'.\"\n",
    "doc_j = \"Data must be processed with advanced tools to reveal meaningful information.\""
   ]
  },
  {
   "cell_type": "code",
   "execution_count": 116,
   "id": "373e677c",
   "metadata": {},
   "outputs": [],
   "source": [
    "doc_set = [doc_a, doc_b, doc_c, doc_d, doc_e, doc_f, doc_g, doc_h, doc_i, doc_j]"
   ]
  },
  {
   "cell_type": "code",
   "execution_count": 85,
   "id": "f0c2d567",
   "metadata": {},
   "outputs": [],
   "source": []
  },
  {
   "cell_type": "code",
   "execution_count": 117,
   "id": "be286164",
   "metadata": {},
   "outputs": [],
   "source": [
    "texts = []\n",
    "\n",
    "for w in doc_set:\n",
    "    raw = w.lower()                                                     # 소문자로 변환\n",
    "    tokens = tokenizer.tokenize(raw)                                    # 형태소 추출\n",
    "    stopped_tokens = [i for i in tokens if not i in stop_words]       # 불용어 제외\n",
    "    stemmer_tokens = [p_stemmer.stem(i) for i in stopped_tokens]       # 어간 추출\n",
    "    texts.append(stemmer_tokens)"
   ]
  },
  {
   "cell_type": "code",
   "execution_count": 119,
   "id": "db36decf",
   "metadata": {
    "scrolled": true
   },
   "outputs": [
    {
     "data": {
      "text/plain": [
       "[['brocolli',\n",
       "  'good',\n",
       "  'eat',\n",
       "  'brother',\n",
       "  'like',\n",
       "  'eat',\n",
       "  'good',\n",
       "  'brocolli',\n",
       "  'mother'],\n",
       " ['mother',\n",
       "  'spend',\n",
       "  'lot',\n",
       "  'time',\n",
       "  'drive',\n",
       "  'brother',\n",
       "  'around',\n",
       "  'basebal',\n",
       "  'practic'],\n",
       " ['health',\n",
       "  'expert',\n",
       "  'suggest',\n",
       "  'drive',\n",
       "  'may',\n",
       "  'caus',\n",
       "  'increas',\n",
       "  'tension',\n",
       "  'blood',\n",
       "  'pressur'],\n",
       " ['often',\n",
       "  'feel',\n",
       "  'pressur',\n",
       "  'perform',\n",
       "  'well',\n",
       "  'school',\n",
       "  'mother',\n",
       "  'never',\n",
       "  'seem',\n",
       "  'drive',\n",
       "  'brother',\n",
       "  'better'],\n",
       " ['health', 'profession', 'say', 'brocolli', 'good', 'health'],\n",
       " ['big',\n",
       "  'data',\n",
       "  'term',\n",
       "  'use',\n",
       "  'refer',\n",
       "  'data',\n",
       "  'set',\n",
       "  'larg',\n",
       "  'complex',\n",
       "  'tradit',\n",
       "  'data',\n",
       "  'process',\n",
       "  'applic',\n",
       "  'softwar',\n",
       "  'adequ',\n",
       "  'deal'],\n",
       " ['data',\n",
       "  'mani',\n",
       "  'case',\n",
       "  'offer',\n",
       "  'greater',\n",
       "  'statist',\n",
       "  'power',\n",
       "  'data',\n",
       "  'higher',\n",
       "  'complex',\n",
       "  'may',\n",
       "  'lead',\n",
       "  'higher',\n",
       "  'fals',\n",
       "  'discoveri',\n",
       "  'rate'],\n",
       " ['big',\n",
       "  'data',\n",
       "  'origin',\n",
       "  'associ',\n",
       "  'three',\n",
       "  'key',\n",
       "  'concept',\n",
       "  'volum',\n",
       "  'varieti',\n",
       "  'veloc'],\n",
       " ['2016',\n",
       "  'definit',\n",
       "  'state',\n",
       "  'big',\n",
       "  'data',\n",
       "  'repres',\n",
       "  'inform',\n",
       "  'asset',\n",
       "  'character',\n",
       "  'high',\n",
       "  'volum',\n",
       "  'veloc',\n",
       "  'varieti',\n",
       "  'requir',\n",
       "  'specif',\n",
       "  'technolog',\n",
       "  'analyt',\n",
       "  'method',\n",
       "  'transform',\n",
       "  'valu'],\n",
       " ['data', 'must', 'process', 'advanc', 'tool', 'reveal', 'meaning', 'inform']]"
      ]
     },
     "execution_count": 119,
     "metadata": {},
     "output_type": "execute_result"
    }
   ],
   "source": [
    "texts"
   ]
  },
  {
   "cell_type": "code",
   "execution_count": 120,
   "id": "1f831c74",
   "metadata": {},
   "outputs": [
    {
     "data": {
      "text/plain": [
       "<gensim.corpora.dictionary.Dictionary at 0x1740f002670>"
      ]
     },
     "execution_count": 120,
     "metadata": {},
     "output_type": "execute_result"
    }
   ],
   "source": [
    "# 리스트안의 리스트안의 단어들을 전체 말뭉치에서 겹치지 않도록 하나씩 Dictionary에 저장\n",
    "\n",
    "dictionary = corpora.Dictionary(texts)         \n",
    "dictionary"
   ]
  },
  {
   "cell_type": "code",
   "execution_count": 89,
   "id": "3769b398",
   "metadata": {
    "collapsed": true
   },
   "outputs": [
    {
     "name": "stdout",
     "output_type": "stream",
     "text": [
      "(0, 'brocolli')\n",
      "(1, 'brother')\n",
      "(2, 'eat')\n",
      "(3, 'good')\n",
      "(4, 'like')\n",
      "(5, 'mother')\n",
      "(6, 'around')\n",
      "(7, 'basebal')\n",
      "(8, 'drive')\n",
      "(9, 'lot')\n",
      "(10, 'practic')\n",
      "(11, 'spend')\n",
      "(12, 'time')\n",
      "(13, 'blood')\n",
      "(14, 'caus')\n",
      "(15, 'expert')\n",
      "(16, 'health')\n",
      "(17, 'increas')\n",
      "(18, 'may')\n",
      "(19, 'pressur')\n",
      "(20, 'suggest')\n",
      "(21, 'tension')\n",
      "(22, 'better')\n",
      "(23, 'feel')\n",
      "(24, 'never')\n",
      "(25, 'often')\n",
      "(26, 'perform')\n",
      "(27, 'school')\n",
      "(28, 'seem')\n",
      "(29, 'well')\n",
      "(30, 'profession')\n",
      "(31, 'say')\n",
      "(32, 'adequ')\n",
      "(33, 'applic')\n",
      "(34, 'big')\n",
      "(35, 'complex')\n",
      "(36, 'data')\n",
      "(37, 'deal')\n",
      "(38, 'larg')\n",
      "(39, 'process')\n",
      "(40, 'refer')\n",
      "(41, 'set')\n",
      "(42, 'softwar')\n",
      "(43, 'term')\n",
      "(44, 'tradit')\n",
      "(45, 'use')\n",
      "(46, 'case')\n",
      "(47, 'discoveri')\n",
      "(48, 'fals')\n",
      "(49, 'greater')\n",
      "(50, 'higher')\n",
      "(51, 'lead')\n",
      "(52, 'mani')\n",
      "(53, 'offer')\n",
      "(54, 'power')\n",
      "(55, 'rate')\n",
      "(56, 'statist')\n",
      "(57, 'associ')\n",
      "(58, 'concept')\n",
      "(59, 'key')\n",
      "(60, 'origin')\n",
      "(61, 'three')\n",
      "(62, 'varieti')\n",
      "(63, 'veloc')\n",
      "(64, 'volum')\n",
      "(65, '2016')\n",
      "(66, 'analyt')\n",
      "(67, 'asset')\n",
      "(68, 'character')\n",
      "(69, 'definit')\n",
      "(70, 'high')\n",
      "(71, 'inform')\n",
      "(72, 'method')\n",
      "(73, 'repres')\n",
      "(74, 'requir')\n",
      "(75, 'specif')\n",
      "(76, 'state')\n",
      "(77, 'technolog')\n",
      "(78, 'transform')\n",
      "(79, 'valu')\n",
      "(80, 'advanc')\n",
      "(81, 'meaning')\n",
      "(82, 'must')\n",
      "(83, 'reveal')\n",
      "(84, 'tool')\n"
     ]
    }
   ],
   "source": [
    "for w in dictionary.items():\n",
    "    print(w)"
   ]
  },
  {
   "cell_type": "code",
   "execution_count": 121,
   "id": "4ae8f622",
   "metadata": {},
   "outputs": [
    {
     "data": {
      "text/plain": [
       "{'brocolli': 0,\n",
       " 'brother': 1,\n",
       " 'eat': 2,\n",
       " 'good': 3,\n",
       " 'like': 4,\n",
       " 'mother': 5,\n",
       " 'around': 6,\n",
       " 'basebal': 7,\n",
       " 'drive': 8,\n",
       " 'lot': 9,\n",
       " 'practic': 10,\n",
       " 'spend': 11,\n",
       " 'time': 12,\n",
       " 'blood': 13,\n",
       " 'caus': 14,\n",
       " 'expert': 15,\n",
       " 'health': 16,\n",
       " 'increas': 17,\n",
       " 'may': 18,\n",
       " 'pressur': 19,\n",
       " 'suggest': 20,\n",
       " 'tension': 21,\n",
       " 'better': 22,\n",
       " 'feel': 23,\n",
       " 'never': 24,\n",
       " 'often': 25,\n",
       " 'perform': 26,\n",
       " 'school': 27,\n",
       " 'seem': 28,\n",
       " 'well': 29,\n",
       " 'profession': 30,\n",
       " 'say': 31,\n",
       " 'adequ': 32,\n",
       " 'applic': 33,\n",
       " 'big': 34,\n",
       " 'complex': 35,\n",
       " 'data': 36,\n",
       " 'deal': 37,\n",
       " 'larg': 38,\n",
       " 'process': 39,\n",
       " 'refer': 40,\n",
       " 'set': 41,\n",
       " 'softwar': 42,\n",
       " 'term': 43,\n",
       " 'tradit': 44,\n",
       " 'use': 45,\n",
       " 'case': 46,\n",
       " 'discoveri': 47,\n",
       " 'fals': 48,\n",
       " 'greater': 49,\n",
       " 'higher': 50,\n",
       " 'lead': 51,\n",
       " 'mani': 52,\n",
       " 'offer': 53,\n",
       " 'power': 54,\n",
       " 'rate': 55,\n",
       " 'statist': 56,\n",
       " 'associ': 57,\n",
       " 'concept': 58,\n",
       " 'key': 59,\n",
       " 'origin': 60,\n",
       " 'three': 61,\n",
       " 'varieti': 62,\n",
       " 'veloc': 63,\n",
       " 'volum': 64,\n",
       " '2016': 65,\n",
       " 'analyt': 66,\n",
       " 'asset': 67,\n",
       " 'character': 68,\n",
       " 'definit': 69,\n",
       " 'high': 70,\n",
       " 'inform': 71,\n",
       " 'method': 72,\n",
       " 'repres': 73,\n",
       " 'requir': 74,\n",
       " 'specif': 75,\n",
       " 'state': 76,\n",
       " 'technolog': 77,\n",
       " 'transform': 78,\n",
       " 'valu': 79,\n",
       " 'advanc': 80,\n",
       " 'meaning': 81,\n",
       " 'must': 82,\n",
       " 'reveal': 83,\n",
       " 'tool': 84}"
      ]
     },
     "execution_count": 121,
     "metadata": {},
     "output_type": "execute_result"
    }
   ],
   "source": [
    "dictionary.token2id"
   ]
  },
  {
   "cell_type": "code",
   "execution_count": null,
   "id": "4b1e3c02",
   "metadata": {},
   "outputs": [],
   "source": []
  },
  {
   "cell_type": "code",
   "execution_count": null,
   "id": "21c76b49",
   "metadata": {},
   "outputs": [],
   "source": []
  },
  {
   "cell_type": "code",
   "execution_count": 125,
   "id": "dcc8590e",
   "metadata": {},
   "outputs": [
    {
     "name": "stdout",
     "output_type": "stream",
     "text": [
      "['brocolli', 'good', 'eat', 'brother', 'like', 'eat', 'good', 'brocolli', 'mother']\n"
     ]
    }
   ],
   "source": [
    "print(texts[0])"
   ]
  },
  {
   "cell_type": "code",
   "execution_count": 126,
   "id": "c046eadd",
   "metadata": {},
   "outputs": [
    {
     "name": "stdout",
     "output_type": "stream",
     "text": [
      "['brocolli' 'brother' 'eat' 'good' 'like' 'mother']\n"
     ]
    }
   ],
   "source": [
    "print(np.unique((texts[0])))"
   ]
  },
  {
   "cell_type": "code",
   "execution_count": 127,
   "id": "b5821cc3",
   "metadata": {},
   "outputs": [
    {
     "data": {
      "text/plain": [
       "[(0, 2), (1, 1), (2, 2), (3, 2), (4, 1), (5, 1)]"
      ]
     },
     "execution_count": 127,
     "metadata": {},
     "output_type": "execute_result"
    }
   ],
   "source": [
    "dictionary.doc2bow(texts[0])      # token의 빈도를 tuple"
   ]
  },
  {
   "cell_type": "code",
   "execution_count": 128,
   "id": "1f8df6e0",
   "metadata": {},
   "outputs": [
    {
     "name": "stdout",
     "output_type": "stream",
     "text": [
      "['around' 'basebal' 'brother' 'drive' 'lot' 'mother' 'practic' 'spend'\n",
      " 'time']\n"
     ]
    }
   ],
   "source": [
    "print(np.unique(np.array(texts[1])))"
   ]
  },
  {
   "cell_type": "code",
   "execution_count": 129,
   "id": "e75fb994",
   "metadata": {
    "scrolled": true
   },
   "outputs": [
    {
     "data": {
      "text/plain": [
       "[[(0, 2), (1, 1), (2, 2), (3, 2), (4, 1), (5, 1)],\n",
       " [(1, 1), (5, 1), (6, 1), (7, 1), (8, 1), (9, 1), (10, 1), (11, 1), (12, 1)],\n",
       " [(8, 1),\n",
       "  (13, 1),\n",
       "  (14, 1),\n",
       "  (15, 1),\n",
       "  (16, 1),\n",
       "  (17, 1),\n",
       "  (18, 1),\n",
       "  (19, 1),\n",
       "  (20, 1),\n",
       "  (21, 1)],\n",
       " [(1, 1),\n",
       "  (5, 1),\n",
       "  (8, 1),\n",
       "  (19, 1),\n",
       "  (22, 1),\n",
       "  (23, 1),\n",
       "  (24, 1),\n",
       "  (25, 1),\n",
       "  (26, 1),\n",
       "  (27, 1),\n",
       "  (28, 1),\n",
       "  (29, 1)],\n",
       " [(0, 1), (3, 1), (16, 2), (30, 1), (31, 1)],\n",
       " [(32, 1),\n",
       "  (33, 1),\n",
       "  (34, 1),\n",
       "  (35, 1),\n",
       "  (36, 3),\n",
       "  (37, 1),\n",
       "  (38, 1),\n",
       "  (39, 1),\n",
       "  (40, 1),\n",
       "  (41, 1),\n",
       "  (42, 1),\n",
       "  (43, 1),\n",
       "  (44, 1),\n",
       "  (45, 1)],\n",
       " [(18, 1),\n",
       "  (35, 1),\n",
       "  (36, 2),\n",
       "  (46, 1),\n",
       "  (47, 1),\n",
       "  (48, 1),\n",
       "  (49, 1),\n",
       "  (50, 2),\n",
       "  (51, 1),\n",
       "  (52, 1),\n",
       "  (53, 1),\n",
       "  (54, 1),\n",
       "  (55, 1),\n",
       "  (56, 1)],\n",
       " [(34, 1),\n",
       "  (36, 1),\n",
       "  (57, 1),\n",
       "  (58, 1),\n",
       "  (59, 1),\n",
       "  (60, 1),\n",
       "  (61, 1),\n",
       "  (62, 1),\n",
       "  (63, 1),\n",
       "  (64, 1)],\n",
       " [(34, 1),\n",
       "  (36, 1),\n",
       "  (62, 1),\n",
       "  (63, 1),\n",
       "  (64, 1),\n",
       "  (65, 1),\n",
       "  (66, 1),\n",
       "  (67, 1),\n",
       "  (68, 1),\n",
       "  (69, 1),\n",
       "  (70, 1),\n",
       "  (71, 1),\n",
       "  (72, 1),\n",
       "  (73, 1),\n",
       "  (74, 1),\n",
       "  (75, 1),\n",
       "  (76, 1),\n",
       "  (77, 1),\n",
       "  (78, 1),\n",
       "  (79, 1)],\n",
       " [(36, 1), (39, 1), (71, 1), (80, 1), (81, 1), (82, 1), (83, 1), (84, 1)]]"
      ]
     },
     "execution_count": 129,
     "metadata": {},
     "output_type": "execute_result"
    }
   ],
   "source": [
    "# 리스트안의 전체 토큰들을 (인덱스, 빈도수) 형식으로 표현\n",
    "\n",
    "corpus = [dictionary.doc2bow(text) for text in texts] \n",
    "corpus"
   ]
  },
  {
   "cell_type": "markdown",
   "id": "509eea50",
   "metadata": {},
   "source": [
    "# ◆LDA(Latent Dirichlet Allocation)\n",
    "* 토픽 모델링에 이용되는 대표적인 알고리즘"
   ]
  },
  {
   "cell_type": "code",
   "execution_count": 161,
   "id": "8a6a5ea3",
   "metadata": {},
   "outputs": [],
   "source": [
    "ldamodel = gensim.models.ldamodel.LdaModel(corpus=corpus, num_topics=4, id2word=dictionary)\n",
    "\n",
    "# corpus : 전체 토큰들을 (인덱스, 빈도수) 형식으로 표현한것 => [dictionary.doc2bow(text) for text in texts]\n",
    "# num_topics : 토픽 수\n",
    "# id2word : 문서를 딕셔너리화 한것 => corpora.Dictionary(texts)"
   ]
  },
  {
   "cell_type": "code",
   "execution_count": 162,
   "id": "3d7eb4b6",
   "metadata": {},
   "outputs": [
    {
     "data": {
      "text/plain": [
       "[(0,\n",
       "  '0.101*\"data\" + 0.041*\"process\" + 0.034*\"complex\" + 0.026*\"higher\" + 0.023*\"big\" + 0.023*\"larg\" + 0.023*\"set\" + 0.023*\"tradit\"'),\n",
       " (1,\n",
       "  '0.052*\"data\" + 0.039*\"big\" + 0.039*\"veloc\" + 0.039*\"varieti\" + 0.039*\"volum\" + 0.022*\"method\" + 0.022*\"inform\" + 0.022*\"requir\"'),\n",
       " (2,\n",
       "  '0.070*\"health\" + 0.070*\"brocolli\" + 0.070*\"good\" + 0.048*\"eat\" + 0.027*\"brother\" + 0.027*\"drive\" + 0.027*\"pressur\" + 0.027*\"mother\"'),\n",
       " (3,\n",
       "  '0.053*\"mother\" + 0.053*\"drive\" + 0.053*\"brother\" + 0.029*\"practic\" + 0.029*\"spend\" + 0.029*\"basebal\" + 0.029*\"time\" + 0.029*\"lot\"')]"
      ]
     },
     "execution_count": 162,
     "metadata": {},
     "output_type": "execute_result"
    }
   ],
   "source": [
    "ldamodel.print_topics(num_words=8)        # topic별 중요 token"
   ]
  },
  {
   "cell_type": "code",
   "execution_count": null,
   "id": "cd2a7859",
   "metadata": {},
   "outputs": [],
   "source": []
  },
  {
   "cell_type": "code",
   "execution_count": 163,
   "id": "431b21ed",
   "metadata": {},
   "outputs": [
    {
     "data": {
      "text/plain": [
       "[(0, 0.025014345), (1, 0.025013587), (2, 0.9239923), (3, 0.025979854)]"
      ]
     },
     "execution_count": 163,
     "metadata": {},
     "output_type": "execute_result"
    }
   ],
   "source": [
    "ldamodel.get_document_topics(corpus)[0]        # 0번 문서가 어느 topic에 가까운지"
   ]
  },
  {
   "cell_type": "code",
   "execution_count": 98,
   "id": "bf241ada",
   "metadata": {},
   "outputs": [
    {
     "data": {
      "text/plain": [
       "[(0, 0.022800604), (1, 0.022755962), (2, 0.023599336), (3, 0.9308441)]"
      ]
     },
     "execution_count": 98,
     "metadata": {},
     "output_type": "execute_result"
    }
   ],
   "source": [
    "ldamodel.get_document_topics(corpus)[2]        # 2번 문서가 어느 topic에 가까운지"
   ]
  },
  {
   "cell_type": "code",
   "execution_count": null,
   "id": "60f927ac",
   "metadata": {},
   "outputs": [],
   "source": []
  },
  {
   "cell_type": "code",
   "execution_count": 166,
   "id": "11a19390",
   "metadata": {},
   "outputs": [
    {
     "name": "stdout",
     "output_type": "stream",
     "text": [
      "1번문서 :  [(0, 0.02501434), (1, 0.025013585), (2, 0.9239856), (3, 0.025986457)]\n",
      "2번문서 :  [(0, 0.025018396), (1, 0.025017384), (2, 0.025234878), (3, 0.92472935)]\n",
      "3번문서 :  [(0, 0.022802077), (1, 0.022786042), (2, 0.9311259), (3, 0.02328601)]\n",
      "4번문서 :  [(0, 0.019245539), (1, 0.019244803), (2, 0.019463519), (3, 0.94204617)]\n",
      "5번문서 :  [(0, 0.035733957), (1, 0.035732705), (2, 0.8927936), (3, 0.03573972)]\n",
      "6번문서 :  [(0, 0.95562345), (1, 0.014932314), (2, 0.0147213405), (3, 0.014722882)]\n",
      "7번문서 :  [(0, 0.95508534), (1, 0.015301886), (2, 0.014874281), (3, 0.014738456)]\n",
      "8번문서 :  [(0, 0.02312705), (1, 0.9313692), (2, 0.022750631), (3, 0.022753088)]\n",
      "9번문서 :  [(0, 0.012051553), (1, 0.9641088), (2, 0.011919111), (3, 0.011920506)]\n",
      "10번문서 :  [(0, 0.9162588), (1, 0.02811836), (2, 0.027809776), (3, 0.02781306)]\n"
     ]
    }
   ],
   "source": [
    "n = 0\n",
    "for d in ldamodel.get_document_topics(corpus): # n번 문서가 어느 topic에 가까운지\n",
    "    n += 1\n",
    "    print(f'{n}번문서 : ',d)"
   ]
  },
  {
   "cell_type": "code",
   "execution_count": null,
   "id": "63aedf7a",
   "metadata": {},
   "outputs": [],
   "source": []
  },
  {
   "cell_type": "markdown",
   "id": "4ebf79f6",
   "metadata": {},
   "source": [
    "# ◆Perplexity\n",
    "* 혼란도\n",
    "* 특정 확률 모델이 실제로 관측되는 값을 얼마나 잘 예측하는지를 뜻한다.\n",
    "* perplexity 값이 작으면 토픽모델이 문서를 잘 반영한다고 한다."
   ]
  },
  {
   "cell_type": "code",
   "execution_count": 50,
   "id": "5ec125e7",
   "metadata": {},
   "outputs": [],
   "source": [
    "# LDA Topic modeling : perplexity, coherence\n",
    "\n",
    "# coherence\n",
    "# 해당 주제가 의미론적으로 일치하는 단어들끼리 모여있는지"
   ]
  },
  {
   "cell_type": "code",
   "execution_count": 167,
   "id": "8d372a57",
   "metadata": {},
   "outputs": [],
   "source": [
    "import matplotlib.pyplot as plt"
   ]
  },
  {
   "cell_type": "code",
   "execution_count": 168,
   "id": "91533fa6",
   "metadata": {},
   "outputs": [
    {
     "name": "stdout",
     "output_type": "stream",
     "text": [
      "-4.896365228398093\n"
     ]
    }
   ],
   "source": [
    "from gensim.models import CoherenceModel\n",
    "\n",
    "print(ldamodel.log_perplexity(corpus))  # 혼잡도"
   ]
  },
  {
   "cell_type": "code",
   "execution_count": 169,
   "id": "c8482dde",
   "metadata": {
    "scrolled": true
   },
   "outputs": [],
   "source": [
    "perplexity_values = []\n",
    "\n",
    "for i in range(2, 10):\n",
    "    ldamodel = gensim.models.ldamodel.LdaModel(corpus, num_topics=i,\\\n",
    "                                              id2word=dictionary)\n",
    "    perplexity_values.append(ldamodel.log_perplexity(corpus))\n",
    "    "
   ]
  },
  {
   "cell_type": "code",
   "execution_count": 170,
   "id": "1d976736",
   "metadata": {},
   "outputs": [
    {
     "data": {
      "text/plain": [
       "[<matplotlib.lines.Line2D at 0x1740efbed90>]"
      ]
     },
     "execution_count": 170,
     "metadata": {},
     "output_type": "execute_result"
    },
    {
     "data": {
      "image/png": "[encoded data removed]",
      "text/plain": [
       "<Figure size 432x288 with 1 Axes>"
      ]
     },
     "metadata": {
      "needs_background": "light"
     },
     "output_type": "display_data"
    }
   ],
   "source": [
    "plt.plot(range(2,10), perplexity_values)"
   ]
  },
  {
   "cell_type": "markdown",
   "id": "6186943b",
   "metadata": {},
   "source": [
    "# ◆Coherence\n",
    "* 주제의 일관성을 측정\n",
    "* 토픽모델이 모델링이 잘 되었을수록 한 주제 안에는 의미론적으로 유사한 단어가 많이 모여있게 마련이다.\n",
    "* 즉, 해당 주제가 의미론적으로 일치하는 단어들끼리 모여있는지 알 수 있다.\n",
    "* 높을 수록 의미론적 일관성이 높다."
   ]
  },
  {
   "cell_type": "code",
   "execution_count": 182,
   "id": "72223086",
   "metadata": {},
   "outputs": [
    {
     "data": {
      "text/plain": [
       "0.4248442212368195"
      ]
     },
     "execution_count": 182,
     "metadata": {},
     "output_type": "execute_result"
    }
   ],
   "source": [
    "cm = CoherenceModel(model=ldamodel, texts=texts, dictionary=dictionary)\n",
    "cm.get_coherence()"
   ]
  },
  {
   "cell_type": "code",
   "execution_count": 183,
   "id": "13fad943",
   "metadata": {},
   "outputs": [],
   "source": [
    "coherence_values = []\n",
    "\n",
    "for i in range(2, 10):\n",
    "    ldamodel = gensim.models.ldamodel.LdaModel(corpus, num_topics=i,\\\n",
    "                                              id2word=dictionary)\n",
    "    coherence_model_lda = CoherenceModel(model = ldamodel, texts=texts,\\\n",
    "                                        dictionary=dictionary, topn=10)\n",
    "    coherence_lda = coherence_model_lda.get_coherence()\n",
    "    coherence_values.append(coherence_lda)\n",
    "    "
   ]
  },
  {
   "cell_type": "code",
   "execution_count": 184,
   "id": "5b789571",
   "metadata": {},
   "outputs": [
    {
     "data": {
      "text/plain": [
       "[<matplotlib.lines.Line2D at 0x1740d1417c0>]"
      ]
     },
     "execution_count": 184,
     "metadata": {},
     "output_type": "execute_result"
    },
    {
     "data": {
      "image/png": "[encoded data removed]",
      "text/plain": [
       "<Figure size 432x288 with 1 Axes>"
      ]
     },
     "metadata": {
      "needs_background": "light"
     },
     "output_type": "display_data"
    }
   ],
   "source": [
    "plt.plot(range(2,10), coherence_values)"
   ]
  },
  {
   "cell_type": "code",
   "execution_count": null,
   "id": "5b5ee12b",
   "metadata": {},
   "outputs": [],
   "source": []
  }
 ],
 "metadata": {
  "kernelspec": {
   "display_name": "Python 3 (ipykernel)",
   "language": "python",
   "name": "python3"
  },
  "language_info": {
   "codemirror_mode": {
    "name": "ipython",
    "version": 3
   },
   "file_extension": ".py",
   "mimetype": "text/x-python",
   "name": "python",
   "nbconvert_exporter": "python",
   "pygments_lexer": "ipython3",
   "version": "3.9.7"
  }
 },
 "nbformat": 4,
 "nbformat_minor": 5
}
